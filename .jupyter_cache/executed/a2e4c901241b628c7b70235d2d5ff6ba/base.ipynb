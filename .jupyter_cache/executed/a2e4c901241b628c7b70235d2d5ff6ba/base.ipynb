{
 "cells": [
  {
   "cell_type": "code",
   "execution_count": 1,
   "id": "98269731",
   "metadata": {},
   "outputs": [],
   "source": [
    "import IJulia\n",
    "\n",
    "# The julia kernel has built in support for Revise.jl, so this is the \n",
    "# recommended approach for long-running sessions:\n",
    "# https://github.com/JuliaLang/IJulia.jl/blob/9b10fa9b879574bbf720f5285029e07758e50a5e/src/kernel.jl#L46-L51\n",
    "\n",
    "# Users should enable revise within .julia/config/startup_ijulia.jl:\n",
    "# https://timholy.github.io/Revise.jl/stable/config/#Using-Revise-automatically-within-Jupyter/IJulia-1\n",
    "\n",
    "# clear console history\n",
    "IJulia.clear_history()\n",
    "\n",
    "fig_width = 7\n",
    "fig_height = 5\n",
    "fig_format = :retina\n",
    "fig_dpi = 96\n",
    "\n",
    "# no retina format type, use svg for high quality type/marks\n",
    "if fig_format == :retina\n",
    "  fig_format = :svg\n",
    "elseif fig_format == :pdf\n",
    "  fig_dpi = 96\n",
    "  # Enable PDF support for IJulia\n",
    "  IJulia.register_mime(MIME(\"application/pdf\"))\n",
    "end\n",
    "\n",
    "# convert inches to pixels\n",
    "fig_width = fig_width * fig_dpi\n",
    "fig_height = fig_height * fig_dpi\n",
    "\n",
    "# Intialize Plots w/ default fig width/height\n",
    "try\n",
    "  import Plots\n",
    "\n",
    "  # Plots.jl doesn't support PDF output for versions < 1.28.1\n",
    "  # so use png (if the DPI remains the default of 300 then set to 96)\n",
    "  if (Plots._current_plots_version < v\"1.28.1\") & (fig_format == :pdf)\n",
    "    Plots.gr(size=(fig_width, fig_height), fmt = :png, dpi = fig_dpi)\n",
    "  else\n",
    "    Plots.gr(size=(fig_width, fig_height), fmt = fig_format, dpi = fig_dpi)\n",
    "  end\n",
    "catch e\n",
    "  # @warn \"Plots init\" exception=(e, catch_backtrace())\n",
    "end\n",
    "\n",
    "# Initialize CairoMakie with default fig width/height\n",
    "try\n",
    "  import CairoMakie\n",
    "  \n",
    "  CairoMakie.activate!(type = string(fig_format))\n",
    "  CairoMakie.update_theme!(resolution=(fig_width, fig_height))\n",
    "catch e\n",
    "    # @warn \"CairoMakie init\" exception=(e, catch_backtrace())\n",
    "end\n",
    "  \n",
    "# Set run_path if specified\n",
    "try\n",
    "  run_path = raw\"/home/ludo/ownCloud/Programmes/quarto/Fisher-KPP/Fisher-KPP\"\n",
    "  if !isempty(run_path)\n",
    "    cd(run_path)\n",
    "  end\n",
    "catch e\n",
    "  @warn \"Run path init:\" exception=(e, catch_backtrace())\n",
    "end\n",
    "\n",
    "\n",
    "# emulate old Pkg.installed beahvior, see\n",
    "# https://discourse.julialang.org/t/how-to-use-pkg-dependencies-instead-of-pkg-installed/36416/9\n",
    "import Pkg\n",
    "function isinstalled(pkg::String)\n",
    "  any(x -> x.name == pkg && x.is_direct_dep, values(Pkg.dependencies()))\n",
    "end\n",
    "\n",
    "# ojs_define\n",
    "if isinstalled(\"JSON\") && isinstalled(\"DataFrames\")\n",
    "  import JSON, DataFrames\n",
    "  global function ojs_define(; kwargs...)\n",
    "    convert(x) = x\n",
    "    convert(x::DataFrames.AbstractDataFrame) = Tables.rows(x)\n",
    "    content = Dict(\"contents\" => [Dict(\"name\" => k, \"value\" => convert(v)) for (k, v) in kwargs])\n",
    "    tag = \"<script type='ojs-define'>$(JSON.json(content))</script>\"\n",
    "    IJulia.display(MIME(\"text/html\"), tag)\n",
    "  end\n",
    "elseif isinstalled(\"JSON\")\n",
    "  import JSON\n",
    "  global function ojs_define(; kwargs...)\n",
    "    content = Dict(\"contents\" => [Dict(\"name\" => k, \"value\" => v) for (k, v) in kwargs])\n",
    "    tag = \"<script type='ojs-define'>$(JSON.json(content))</script>\"\n",
    "    IJulia.display(MIME(\"text/html\"), tag)\n",
    "  end\n",
    "else\n",
    "  global function ojs_define(; kwargs...)\n",
    "    @warn \"JSON package not available. Please install the JSON.jl package to use ojs_define.\"\n",
    "  end\n",
    "end\n",
    "\n",
    "\n",
    "# don't return kernel dependencies (b/c Revise should take care of dependencies)\n",
    "nothing\n"
   ]
  },
  {
   "cell_type": "code",
   "execution_count": 2,
   "id": "79321f97",
   "metadata": {},
   "outputs": [],
   "source": [
    "using MethodOfLines, ModelingToolkit, DomainSets, OrdinaryDiffEq, Plots"
   ]
  },
  {
   "cell_type": "code",
   "execution_count": 3,
   "id": "cb1c76d5",
   "metadata": {},
   "outputs": [
    {
     "data": {
      "text/latex": [
       "$$ \\begin{equation}\n",
       "\\left[\n",
       "\\begin{array}{c}\n",
       "t \\\\\n",
       "x \\\\\n",
       "\\end{array}\n",
       "\\right]\n",
       "\\end{equation}\n",
       " $$"
      ],
      "text/plain": [
       "2-element Vector{Num}:\n",
       " t\n",
       " x"
      ]
     },
     "execution_count": 17,
     "metadata": {},
     "output_type": "execute_result"
    }
   ],
   "source": [
    "@parameters t, x"
   ]
  },
  {
   "cell_type": "code",
   "execution_count": 4,
   "id": "02c76570",
   "metadata": {},
   "outputs": [
    {
     "data": {
      "text/plain": [
       "1-element Vector{Symbolics.CallWithMetadata{SymbolicUtils.FnType{Tuple, Real}, Base.ImmutableDict{DataType, Any}}}:\n",
       " u⋆"
      ]
     },
     "execution_count": 18,
     "metadata": {},
     "output_type": "execute_result"
    }
   ],
   "source": [
    "@variables u(..)"
   ]
  },
  {
   "cell_type": "code",
   "execution_count": 5,
   "id": "48aba95d",
   "metadata": {},
   "outputs": [
    {
     "data": {
      "text/plain": [
       "Differential(x) ∘ Differential(x)"
      ]
     },
     "execution_count": 19,
     "metadata": {},
     "output_type": "execute_result"
    }
   ],
   "source": [
    "Dt = Differential(t)\n",
    "Dx = Differential(x)\n",
    "Dxx = Differential(x)^2"
   ]
  },
  {
   "cell_type": "code",
   "execution_count": 6,
   "id": "59a868dd",
   "metadata": {},
   "outputs": [
    {
     "data": {
      "text/plain": [
       "1.0"
      ]
     },
     "execution_count": 20,
     "metadata": {},
     "output_type": "execute_result"
    }
   ],
   "source": [
    "r = 1.0\n",
    "D = 1.0"
   ]
  },
  {
   "cell_type": "code",
   "execution_count": 7,
   "id": "98c88ef8",
   "metadata": {},
   "outputs": [
    {
     "data": {
      "text/latex": [
       "$$ \\begin{equation}\n",
       "\\frac{\\mathrm{d}}{\\mathrm{d}t} u\\left( t, x \\right) = \\left( 1 - u\\left( t, x \\right) \\right) u\\left( t, x \\right) + \\frac{\\mathrm{d}}{\\mathrm{d}x} \\frac{\\mathrm{d}}{\\mathrm{d}x} u\\left( t, x \\right)\n",
       "\\end{equation}\n",
       " $$"
      ],
      "text/plain": [
       "Differential(t)(u(t, x)) ~ (1 - u(t, x))*u(t, x) + Differential(x)(Differential(x)(u(t, x)))"
      ]
     },
     "execution_count": 21,
     "metadata": {},
     "output_type": "execute_result"
    }
   ],
   "source": [
    "#| output: true\n",
    "eq = Dt(u(t, x)) ~ r * u(t,x) * (1-u(t,x)) + D * Dxx(u(t,x))"
   ]
  },
  {
   "cell_type": "code",
   "execution_count": 8,
   "id": "1a911974",
   "metadata": {},
   "outputs": [
    {
     "data": {
      "text/plain": [
       "14.0"
      ]
     },
     "execution_count": 22,
     "metadata": {},
     "output_type": "execute_result"
    }
   ],
   "source": [
    "x_max = 30.0\n",
    "t_max = 14.0"
   ]
  },
  {
   "cell_type": "code",
   "execution_count": 9,
   "id": "3fe77786",
   "metadata": {},
   "outputs": [
    {
     "data": {
      "text/plain": [
       "2-element Vector{Symbolics.VarDomainPairing}:\n",
       " Symbolics.VarDomainPairing(x, 0.0..30.0)\n",
       " Symbolics.VarDomainPairing(t, 0.0..14.0)"
      ]
     },
     "execution_count": 23,
     "metadata": {},
     "output_type": "execute_result"
    }
   ],
   "source": [
    "domain = [x ∈ Interval(0.0, x_max),\n",
    "          t ∈ Interval(0.0, t_max)]"
   ]
  },
  {
   "cell_type": "code",
   "execution_count": 10,
   "id": "842fdfcf",
   "metadata": {},
   "outputs": [
    {
     "data": {
      "text/latex": [
       "$$ \\begin{align}\n",
       "u\\left( 0, x \\right) =& 0 \\\\\n",
       "u\\left( t, 0 \\right) =& 1 \\\\\n",
       "u\\left( t, 30 \\right) =& 0\n",
       "\\end{align}\n",
       " $$"
      ],
      "text/plain": [
       "3-element Vector{Equation}:\n",
       " u(0.0, x) ~ 0.0\n",
       " u(t, 0.0) ~ 1.0\n",
       " u(t, 30.0) ~ 0.0"
      ]
     },
     "execution_count": 24,
     "metadata": {},
     "output_type": "execute_result"
    }
   ],
   "source": [
    "ic_bc = [u(0.0, x) ~ 0.0,\n",
    "         u(t, 0.0) ~ 1.0,\n",
    "         u(t, x_max) ~ 0.0]"
   ]
  },
  {
   "cell_type": "code",
   "execution_count": 11,
   "id": "873f8a7c",
   "metadata": {},
   "outputs": [
    {
     "data": {
      "text/latex": [
       "$$ \\begin{align}\n",
       "\\frac{\\mathrm{d}}{\\mathrm{d}t} u\\left( t, x \\right) =& \\left( 1 - u\\left( t, x \\right) \\right) u\\left( t, x \\right) + \\frac{\\mathrm{d}}{\\mathrm{d}x} \\frac{\\mathrm{d}}{\\mathrm{d}x} u\\left( t, x \\right)\n",
       "\\end{align}\n",
       " $$"
      ],
      "text/plain": [
       "PDESystem\n",
       "Equations: Equation[Differential(t)(u(t, x)) ~ (1 - u(t, x))*u(t, x) + Differential(x)(Differential(x)(u(t, x)))]\n",
       "Boundary Conditions: Equation[u(0.0, x) ~ 0.0, u(t, 0.0) ~ 1.0, u(t, 30.0) ~ 0.0]\n",
       "Domain: Symbolics.VarDomainPairing[Symbolics.VarDomainPairing(x, 0.0..30.0), Symbolics.VarDomainPairing(t, 0.0..14.0)]\n",
       "Dependent Variables: Num[u(t, x)]\n",
       "Independent Variables: Num[t, x]\n",
       "Parameters: SciMLBase.NullParameters()\n",
       "Default Parameter ValuesDict{Any, Any}()"
      ]
     },
     "execution_count": 25,
     "metadata": {},
     "output_type": "execute_result"
    }
   ],
   "source": [
    "@named sys = PDESystem(eq, ic_bc, domain, [t, x], [u(t,x)])"
   ]
  },
  {
   "cell_type": "code",
   "execution_count": 12,
   "id": "2a5f1c42",
   "metadata": {},
   "outputs": [
    {
     "data": {
      "text/plain": [
       "MOLFiniteDifference{MethodOfLines.CenterAlignedGrid, MethodOfLines.ScalarizedDiscretization}(Dict{Num, Float64}(x => 0.1), t, 2, UpwindScheme(1), MethodOfLines.CenterAlignedGrid(), true, false, MethodOfLines.ScalarizedDiscretization(), Base.Pairs{Symbol, Union{}, Tuple{}, NamedTuple{(), Tuple{}}}())"
      ]
     },
     "execution_count": 26,
     "metadata": {},
     "output_type": "execute_result"
    }
   ],
   "source": [
    "dx = 0.1\n",
    "discretization = MOLFiniteDifference([x => dx], t)"
   ]
  },
  {
   "cell_type": "code",
   "execution_count": 13,
   "id": "2fb573c3",
   "metadata": {},
   "outputs": [
    {
     "data": {
      "text/plain": [
       "\u001b[38;2;86;182;194mODEProblem\u001b[0m with uType \u001b[38;2;86;182;194mVector{Float64}\u001b[0m and tType \u001b[38;2;86;182;194mFloat64\u001b[0m. In-place: \u001b[38;2;86;182;194mtrue\u001b[0m\n",
       "timespan: (0.0, 14.0)\n",
       "u0: 299-element Vector{Float64}:\n",
       " 0.0\n",
       " 0.0\n",
       " 0.0\n",
       " 0.0\n",
       " 0.0\n",
       " 0.0\n",
       " 0.0\n",
       " 0.0\n",
       " 0.0\n",
       " 0.0\n",
       " 0.0\n",
       " 0.0\n",
       " 0.0\n",
       " ⋮\n",
       " 0.0\n",
       " 0.0\n",
       " 0.0\n",
       " 0.0\n",
       " 0.0\n",
       " 0.0\n",
       " 0.0\n",
       " 0.0\n",
       " 0.0\n",
       " 0.0\n",
       " 0.0\n",
       " 0.0"
      ]
     },
     "execution_count": 27,
     "metadata": {},
     "output_type": "execute_result"
    }
   ],
   "source": [
    "prob = discretize(sys, discretization)"
   ]
  },
  {
   "cell_type": "code",
   "execution_count": 14,
   "id": "3c572f06",
   "metadata": {},
   "outputs": [
    {
     "data": {
      "text/plain": [
       "retcode: Success\n",
       "Interpolation: Dict{Num, Interpolations.GriddedInterpolation{Float64, 2, Matrix{Float64}, Interpolations.Gridded{Interpolations.Linear{Interpolations.Throw{Interpolations.OnGrid}}}, Tuple{Vector{Float64}, Vector{Float64}}}}\n",
       "t: 141-element Vector{Float64}:\n",
       "  0.0\n",
       "  0.1\n",
       "  0.2\n",
       "  0.3\n",
       "  0.4\n",
       "  0.5\n",
       "  0.6\n",
       "  0.7\n",
       "  0.8\n",
       "  0.9\n",
       "  1.0\n",
       "  1.1\n",
       "  1.2\n",
       "  ⋮\n",
       " 12.9\n",
       " 13.0\n",
       " 13.1\n",
       " 13.2\n",
       " 13.3\n",
       " 13.4\n",
       " 13.5\n",
       " 13.6\n",
       " 13.7\n",
       " 13.8\n",
       " 13.9\n",
       " 14.0ivs: 2-element Vector{SymbolicUtils.BasicSymbolic{Real}}:\n",
       " t\n",
       " xdomain:([0.0, 0.1, 0.2, 0.3, 0.4, 0.5, 0.6, 0.7, 0.8, 0.9  …  13.1, 13.2, 13.3, 13.4, 13.5, 13.6, 13.7, 13.8, 13.9, 14.0], 0.0:0.1:30.0)\n",
       "u: Dict{Num, Matrix{Float64}} with 1 entry:\n",
       "  u(t, x) => [1.0 0.0 … 0.0 0.0; 1.0 0.827388 … 0.0 0.0; … ; 1.0 1.00001 … 0.00…"
      ]
     },
     "execution_count": 28,
     "metadata": {},
     "output_type": "execute_result"
    }
   ],
   "source": [
    "sol = solve(prob, Tsit5(), saveat = .1)"
   ]
  },
  {
   "cell_type": "code",
   "execution_count": 15,
   "id": "665780e2",
   "metadata": {},
   "outputs": [
    {
     "data": {
      "text/plain": [
       "141×301 Matrix{Float64}:\n",
       " 1.0  0.0       0.0       0.0       …   0.0            0.0           0.0\n",
       " 1.0  0.827388  0.662634  0.511867      0.0            0.0           0.0\n",
       " 1.0  0.881019  0.764278  0.652127      0.0            0.0           0.0\n",
       " 1.0  0.905508  0.812027  0.72059       0.0            0.0           0.0\n",
       " 1.0  0.920511  0.8415    0.763612      3.47498e-179   1.56655e-180  0.0\n",
       " 1.0  0.930984  0.862228  0.794054  …   3.38938e-132  -3.34521e-133  0.0\n",
       " 1.0  0.93889   0.877911  0.817232     -2.74069e-104   4.94008e-105  0.0\n",
       " 1.0  0.945167  0.890366  0.835741     -2.29488e-87    5.52327e-88   0.0\n",
       " 1.0  0.950312  0.900635  0.850977      4.98836e-76   -1.43772e-76   0.0\n",
       " 1.0  0.954659  0.909285  0.863888     -4.54618e-67    1.48948e-67   0.0\n",
       " 1.0  0.958395  0.916727  0.875014  …  -2.26126e-60    8.01703e-61   0.0\n",
       " 1.0  0.961647  0.923251  0.884717      5.32389e-55   -2.00331e-55   0.0\n",
       " 1.0  0.964536  0.928991  0.893352     -1.77764e-50    7.0251e-51    0.0\n",
       " ⋮                                  ⋱                                ⋮\n",
       " 1.0  0.999984  0.999999  0.999952      0.000189724    9.43743e-5    0.0\n",
       " 1.0  1.00001   0.999955  1.00002   …   0.000232149    0.000115494   0.0\n",
       " 1.0  0.999972  1.00003   0.999917      0.00028326     0.000140941   0.0\n",
       " 1.0  1.00001   0.999951  1.00003       0.000344649    0.000171511   0.0\n",
       " 1.0  0.999978  1.00002   0.999933      0.00041816     0.000208122   0.0\n",
       " 1.0  1.0       0.999968  1.00001       0.000505913    0.000251833   0.0\n",
       " 1.0  0.999993  0.999992  0.99998   …   0.00061034     0.000303858   0.0\n",
       " 1.0  0.999991  0.999998  0.999974      0.000734216    0.000365581   0.0\n",
       " 1.0  1.00001   0.999967  1.00002       0.000880688    0.000438576   0.0\n",
       " 1.0  0.999978  1.00003   0.999935      0.0010533      0.000524614   0.0\n",
       " 1.0  1.00001   0.999958  1.00004       0.00125605     0.000625685   0.0\n",
       " 1.0  0.999988  1.00001   0.999964  …   0.00149336     0.000744009   0.0"
      ]
     },
     "execution_count": 29,
     "metadata": {},
     "output_type": "execute_result"
    }
   ],
   "source": [
    "gridx = sol[x]\n",
    "gridt = sol[t]\n",
    "solu = sol[u(t,x)]"
   ]
  },
  {
   "cell_type": "code",
   "execution_count": 16,
   "id": "3a18a50a",
   "metadata": {},
   "outputs": [
    {
     "data": {
      "text/plain": [
       "Animation(\"/tmp/jl_jxhVpl\", [\"000001.png\", \"000002.png\", \"000003.png\", \"000004.png\", \"000005.png\", \"000006.png\", \"000007.png\", \"000008.png\", \"000009.png\", \"000010.png\"  …  \"000132.png\", \"000133.png\", \"000134.png\", \"000135.png\", \"000136.png\", \"000137.png\", \"000138.png\", \"000139.png\", \"000140.png\", \"000141.png\"])"
      ]
     },
     "execution_count": 30,
     "metadata": {},
     "output_type": "execute_result"
    }
   ],
   "source": [
    "#| output: true\n",
    "anim = @animate for i in eachindex(gridt)\n",
    "    plot(gridx, solu[i, :], label = \"u(x,t)\", title = \"t=$(gridt[i])\")\n",
    "end"
   ]
  }
 ],
 "metadata": {
  "kernelspec": {
   "display_name": "Julia 1.9.0",
   "language": "julia",
   "name": "julia-1.9"
  }
 },
 "nbformat": 4,
 "nbformat_minor": 5
}