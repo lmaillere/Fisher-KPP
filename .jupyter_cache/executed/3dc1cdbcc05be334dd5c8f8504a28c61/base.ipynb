{
 "cells": [
  {
   "cell_type": "code",
   "execution_count": 1,
   "id": "cb67b425",
   "metadata": {},
   "outputs": [],
   "source": [
    "import IJulia\n",
    "\n",
    "# The julia kernel has built in support for Revise.jl, so this is the \n",
    "# recommended approach for long-running sessions:\n",
    "# https://github.com/JuliaLang/IJulia.jl/blob/9b10fa9b879574bbf720f5285029e07758e50a5e/src/kernel.jl#L46-L51\n",
    "\n",
    "# Users should enable revise within .julia/config/startup_ijulia.jl:\n",
    "# https://timholy.github.io/Revise.jl/stable/config/#Using-Revise-automatically-within-Jupyter/IJulia-1\n",
    "\n",
    "# clear console history\n",
    "IJulia.clear_history()\n",
    "\n",
    "fig_width = 7\n",
    "fig_height = 5\n",
    "fig_format = :retina\n",
    "fig_dpi = 96\n",
    "\n",
    "# no retina format type, use svg for high quality type/marks\n",
    "if fig_format == :retina\n",
    "  fig_format = :svg\n",
    "elseif fig_format == :pdf\n",
    "  fig_dpi = 96\n",
    "  # Enable PDF support for IJulia\n",
    "  IJulia.register_mime(MIME(\"application/pdf\"))\n",
    "end\n",
    "\n",
    "# convert inches to pixels\n",
    "fig_width = fig_width * fig_dpi\n",
    "fig_height = fig_height * fig_dpi\n",
    "\n",
    "# Intialize Plots w/ default fig width/height\n",
    "try\n",
    "  import Plots\n",
    "\n",
    "  # Plots.jl doesn't support PDF output for versions < 1.28.1\n",
    "  # so use png (if the DPI remains the default of 300 then set to 96)\n",
    "  if (Plots._current_plots_version < v\"1.28.1\") & (fig_format == :pdf)\n",
    "    Plots.gr(size=(fig_width, fig_height), fmt = :png, dpi = fig_dpi)\n",
    "  else\n",
    "    Plots.gr(size=(fig_width, fig_height), fmt = fig_format, dpi = fig_dpi)\n",
    "  end\n",
    "catch e\n",
    "  # @warn \"Plots init\" exception=(e, catch_backtrace())\n",
    "end\n",
    "\n",
    "# Initialize CairoMakie with default fig width/height\n",
    "try\n",
    "  import CairoMakie\n",
    "  \n",
    "  CairoMakie.activate!(type = string(fig_format))\n",
    "  CairoMakie.update_theme!(resolution=(fig_width, fig_height))\n",
    "catch e\n",
    "    # @warn \"CairoMakie init\" exception=(e, catch_backtrace())\n",
    "end\n",
    "  \n",
    "# Set run_path if specified\n",
    "try\n",
    "  run_path = raw\"/home/ludo/ownCloud/Programmes/quarto/Fisher-KPP/Fisher-KPP\"\n",
    "  if !isempty(run_path)\n",
    "    cd(run_path)\n",
    "  end\n",
    "catch e\n",
    "  @warn \"Run path init:\" exception=(e, catch_backtrace())\n",
    "end\n",
    "\n",
    "\n",
    "# emulate old Pkg.installed beahvior, see\n",
    "# https://discourse.julialang.org/t/how-to-use-pkg-dependencies-instead-of-pkg-installed/36416/9\n",
    "import Pkg\n",
    "function isinstalled(pkg::String)\n",
    "  any(x -> x.name == pkg && x.is_direct_dep, values(Pkg.dependencies()))\n",
    "end\n",
    "\n",
    "# ojs_define\n",
    "if isinstalled(\"JSON\") && isinstalled(\"DataFrames\")\n",
    "  import JSON, DataFrames\n",
    "  global function ojs_define(; kwargs...)\n",
    "    convert(x) = x\n",
    "    convert(x::DataFrames.AbstractDataFrame) = Tables.rows(x)\n",
    "    content = Dict(\"contents\" => [Dict(\"name\" => k, \"value\" => convert(v)) for (k, v) in kwargs])\n",
    "    tag = \"<script type='ojs-define'>$(JSON.json(content))</script>\"\n",
    "    IJulia.display(MIME(\"text/html\"), tag)\n",
    "  end\n",
    "elseif isinstalled(\"JSON\")\n",
    "  import JSON\n",
    "  global function ojs_define(; kwargs...)\n",
    "    content = Dict(\"contents\" => [Dict(\"name\" => k, \"value\" => v) for (k, v) in kwargs])\n",
    "    tag = \"<script type='ojs-define'>$(JSON.json(content))</script>\"\n",
    "    IJulia.display(MIME(\"text/html\"), tag)\n",
    "  end\n",
    "else\n",
    "  global function ojs_define(; kwargs...)\n",
    "    @warn \"JSON package not available. Please install the JSON.jl package to use ojs_define.\"\n",
    "  end\n",
    "end\n",
    "\n",
    "\n",
    "# don't return kernel dependencies (b/c Revise should take care of dependencies)\n",
    "nothing\n"
   ]
  },
  {
   "cell_type": "code",
   "execution_count": 2,
   "id": "fa421e74",
   "metadata": {},
   "outputs": [],
   "source": [
    "using MethodOfLines, ModelingToolkit, DomainSets, OrdinaryDiffEq, Plots"
   ]
  },
  {
   "cell_type": "code",
   "execution_count": 3,
   "id": "9ec36898",
   "metadata": {},
   "outputs": [
    {
     "data": {
      "text/latex": [
       "$$ \\begin{equation}\n",
       "\\left[\n",
       "\\begin{array}{c}\n",
       "t \\\\\n",
       "x \\\\\n",
       "\\end{array}\n",
       "\\right]\n",
       "\\end{equation}\n",
       " $$"
      ],
      "text/plain": [
       "2-element Vector{Num}:\n",
       " t\n",
       " x"
      ]
     },
     "execution_count": 3,
     "metadata": {},
     "output_type": "execute_result"
    }
   ],
   "source": [
    "@parameters t, x"
   ]
  },
  {
   "cell_type": "code",
   "execution_count": 4,
   "id": "d229d09f",
   "metadata": {},
   "outputs": [
    {
     "data": {
      "text/plain": [
       "1-element Vector{Symbolics.CallWithMetadata{SymbolicUtils.FnType{Tuple, Real}, Base.ImmutableDict{DataType, Any}}}:\n",
       " u⋆"
      ]
     },
     "execution_count": 4,
     "metadata": {},
     "output_type": "execute_result"
    }
   ],
   "source": [
    "@variables u(..)"
   ]
  },
  {
   "cell_type": "code",
   "execution_count": 5,
   "id": "809501b8",
   "metadata": {},
   "outputs": [
    {
     "data": {
      "text/plain": [
       "Differential(x) ∘ Differential(x)"
      ]
     },
     "execution_count": 5,
     "metadata": {},
     "output_type": "execute_result"
    }
   ],
   "source": [
    "Dt = Differential(t)\n",
    "Dx = Differential(x)\n",
    "Dxx = Differential(x)^2"
   ]
  },
  {
   "cell_type": "code",
   "execution_count": 6,
   "id": "a3faf4ef",
   "metadata": {},
   "outputs": [
    {
     "data": {
      "text/plain": [
       "1.0"
      ]
     },
     "execution_count": 6,
     "metadata": {},
     "output_type": "execute_result"
    }
   ],
   "source": [
    "r = 1.0\n",
    "D = 1.0"
   ]
  },
  {
   "cell_type": "code",
   "execution_count": 7,
   "id": "677ba3c1",
   "metadata": {},
   "outputs": [
    {
     "data": {
      "text/latex": [
       "$$ \\begin{equation}\n",
       "\\frac{\\mathrm{d}}{\\mathrm{d}t} u\\left( t, x \\right) = \\left( 1 - u\\left( t, x \\right) \\right) u\\left( t, x \\right) + \\frac{\\mathrm{d}}{\\mathrm{d}x} \\frac{\\mathrm{d}}{\\mathrm{d}x} u\\left( t, x \\right)\n",
       "\\end{equation}\n",
       " $$"
      ],
      "text/plain": [
       "Differential(t)(u(t, x)) ~ (1 - u(t, x))*u(t, x) + Differential(x)(Differential(x)(u(t, x)))"
      ]
     },
     "execution_count": 7,
     "metadata": {},
     "output_type": "execute_result"
    }
   ],
   "source": [
    "#| output: true\n",
    "eq = Dt(u(t, x)) ~ r * u(t,x) * (1-u(t,x)) + D * Dxx(u(t,x))"
   ]
  },
  {
   "cell_type": "code",
   "execution_count": 8,
   "id": "113f4990",
   "metadata": {},
   "outputs": [
    {
     "data": {
      "text/plain": [
       "14.0"
      ]
     },
     "execution_count": 8,
     "metadata": {},
     "output_type": "execute_result"
    }
   ],
   "source": [
    "x_max = 30.0\n",
    "t_max = 14.0"
   ]
  },
  {
   "cell_type": "code",
   "execution_count": 9,
   "id": "c5d86801",
   "metadata": {},
   "outputs": [
    {
     "data": {
      "text/plain": [
       "2-element Vector{Symbolics.VarDomainPairing}:\n",
       " Symbolics.VarDomainPairing(x, 0.0..30.0)\n",
       " Symbolics.VarDomainPairing(t, 0.0..14.0)"
      ]
     },
     "execution_count": 9,
     "metadata": {},
     "output_type": "execute_result"
    }
   ],
   "source": [
    "domain = [x ∈ Interval(0.0, x_max),\n",
    "          t ∈ Interval(0.0, t_max)]"
   ]
  },
  {
   "cell_type": "code",
   "execution_count": 10,
   "id": "4b065508",
   "metadata": {},
   "outputs": [
    {
     "data": {
      "text/latex": [
       "$$ \\begin{align}\n",
       "u\\left( 0, x \\right) =& 0 \\\\\n",
       "u\\left( t, 0 \\right) =& 1 \\\\\n",
       "u\\left( t, 30 \\right) =& 0\n",
       "\\end{align}\n",
       " $$"
      ],
      "text/plain": [
       "3-element Vector{Equation}:\n",
       " u(0.0, x) ~ 0.0\n",
       " u(t, 0.0) ~ 1.0\n",
       " u(t, 30.0) ~ 0.0"
      ]
     },
     "execution_count": 10,
     "metadata": {},
     "output_type": "execute_result"
    }
   ],
   "source": [
    "ic_bc = [u(0.0, x) ~ 0.0,\n",
    "         u(t, 0.0) ~ 1.0,\n",
    "         u(t, x_max) ~ 0.0]"
   ]
  },
  {
   "cell_type": "code",
   "execution_count": 11,
   "id": "c6a5e857",
   "metadata": {},
   "outputs": [
    {
     "data": {
      "text/latex": [
       "$$ \\begin{align}\n",
       "\\frac{\\mathrm{d}}{\\mathrm{d}t} u\\left( t, x \\right) =& \\left( 1 - u\\left( t, x \\right) \\right) u\\left( t, x \\right) + \\frac{\\mathrm{d}}{\\mathrm{d}x} \\frac{\\mathrm{d}}{\\mathrm{d}x} u\\left( t, x \\right)\n",
       "\\end{align}\n",
       " $$"
      ],
      "text/plain": [
       "PDESystem\n",
       "Equations: Equation[Differential(t)(u(t, x)) ~ (1 - u(t, x))*u(t, x) + Differential(x)(Differential(x)(u(t, x)))]\n",
       "Boundary Conditions: Equation[u(0.0, x) ~ 0.0, u(t, 0.0) ~ 1.0, u(t, 30.0) ~ 0.0]\n",
       "Domain: Symbolics.VarDomainPairing[Symbolics.VarDomainPairing(x, 0.0..30.0), Symbolics.VarDomainPairing(t, 0.0..14.0)]\n",
       "Dependent Variables: Num[u(t, x)]\n",
       "Independent Variables: Num[t, x]\n",
       "Parameters: SciMLBase.NullParameters()\n",
       "Default Parameter ValuesDict{Any, Any}()"
      ]
     },
     "execution_count": 11,
     "metadata": {},
     "output_type": "execute_result"
    }
   ],
   "source": [
    "@named sys = PDESystem(eq, ic_bc, domain, [t, x], [u(t,x)])"
   ]
  },
  {
   "cell_type": "code",
   "execution_count": 12,
   "id": "59443117",
   "metadata": {},
   "outputs": [
    {
     "data": {
      "text/plain": [
       "MOLFiniteDifference{MethodOfLines.CenterAlignedGrid, MethodOfLines.ScalarizedDiscretization}(Dict{Num, Float64}(x => 0.1), t, 2, UpwindScheme(1), MethodOfLines.CenterAlignedGrid(), true, false, MethodOfLines.ScalarizedDiscretization(), Base.Pairs{Symbol, Union{}, Tuple{}, NamedTuple{(), Tuple{}}}())"
      ]
     },
     "execution_count": 12,
     "metadata": {},
     "output_type": "execute_result"
    }
   ],
   "source": [
    "dx = 0.1\n",
    "discretization = MOLFiniteDifference([x => dx], t)"
   ]
  },
  {
   "cell_type": "code",
   "execution_count": 13,
   "id": "1975b06c",
   "metadata": {},
   "outputs": [
    {
     "data": {
      "text/plain": [
       "\u001b[38;2;86;182;194mODEProblem\u001b[0m with uType \u001b[38;2;86;182;194mVector{Float64}\u001b[0m and tType \u001b[38;2;86;182;194mFloat64\u001b[0m. In-place: \u001b[38;2;86;182;194mtrue\u001b[0m\n",
       "timespan: (0.0, 14.0)\n",
       "u0: 299-element Vector{Float64}:\n",
       " 0.0\n",
       " 0.0\n",
       " 0.0\n",
       " 0.0\n",
       " 0.0\n",
       " 0.0\n",
       " 0.0\n",
       " 0.0\n",
       " 0.0\n",
       " 0.0\n",
       " 0.0\n",
       " 0.0\n",
       " 0.0\n",
       " ⋮\n",
       " 0.0\n",
       " 0.0\n",
       " 0.0\n",
       " 0.0\n",
       " 0.0\n",
       " 0.0\n",
       " 0.0\n",
       " 0.0\n",
       " 0.0\n",
       " 0.0\n",
       " 0.0\n",
       " 0.0"
      ]
     },
     "execution_count": 13,
     "metadata": {},
     "output_type": "execute_result"
    }
   ],
   "source": [
    "prob = discretize(sys, discretization)"
   ]
  }
 ],
 "metadata": {
  "kernelspec": {
   "display_name": "Julia 1.9.0",
   "language": "julia",
   "name": "julia-1.9"
  },
  "language_info": {
   "file_extension": ".jl",
   "mimetype": "application/julia",
   "name": "julia",
   "version": "1.9.0"
  }
 },
 "nbformat": 4,
 "nbformat_minor": 5
}